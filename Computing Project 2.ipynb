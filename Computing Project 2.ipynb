{
 "cells": [
  {
   "cell_type": "code",
   "execution_count": 5,
   "id": "f32993f2",
   "metadata": {},
   "outputs": [
    {
     "name": "stderr",
     "output_type": "stream",
     "text": [
      "<>:4: SyntaxWarning: 'str' object is not callable; perhaps you missed a comma?\n",
      "<>:4: SyntaxWarning: 'str' object is not callable; perhaps you missed a comma?\n"
     ]
    },
    {
     "ename": "ModuleNotFoundError",
     "evalue": "No module named 'pandas'",
     "output_type": "error",
     "traceback": [
      "\u001b[1;31m---------------------------------------------------------------------------\u001b[0m",
      "\u001b[1;31mModuleNotFoundError\u001b[0m                       Traceback (most recent call last)",
      "Cell \u001b[1;32mIn[5], line 2\u001b[0m\n\u001b[0;32m      1\u001b[0m \u001b[38;5;28;01mfrom\u001b[39;00m \u001b[38;5;21;01mBio\u001b[39;00m \u001b[38;5;28;01mimport\u001b[39;00m SeqIO\n\u001b[1;32m----> 2\u001b[0m \u001b[38;5;28;01mimport\u001b[39;00m \u001b[38;5;21;01mpandas\u001b[39;00m \u001b[38;5;28;01mas\u001b[39;00m \u001b[38;5;21;01mpd\u001b[39;00m\n\u001b[0;32m      4\u001b[0m DNA_Mus\u001b[38;5;241m=\u001b[39m [\u001b[38;5;28mrepr\u001b[39m(seq_record\u001b[38;5;241m.\u001b[39mseq) \u001b[38;5;28;01mfor\u001b[39;00m seq_record \u001b[38;5;129;01min\u001b[39;00m SeqI0\u001b[38;5;241m.\u001b[39mparse(\u001b[38;5;124m\"\u001b[39m\u001b[38;5;124mMus_musculus_Actc1_sequence\u001b[39m\u001b[38;5;124m\"\u001b[39m(\u001b[38;5;124m\"\u001b[39m\u001b[38;5;124mfasta\u001b[39m\u001b[38;5;124m\"\u001b[39m))]\n\u001b[0;32m      6\u001b[0m Mus_Acnt \u001b[38;5;241m=\u001b[39m (\u001b[38;5;28msum\u001b[39m([\u001b[38;5;28mround\u001b[39m(((i\u001b[38;5;241m.\u001b[39mcount(\u001b[38;5;124m\"\u001b[39m\u001b[38;5;124mA\u001b[39m\u001b[38;5;124m\"\u001b[39m))\u001b[38;5;241m/\u001b[39m\u001b[38;5;28mlen\u001b[39m(DNA_Mus)),\u001b[38;5;241m0\u001b[39m)\u001b[38;5;28;01mfor\u001b[39;00m i \u001b[38;5;129;01min\u001b[39;00m DNA_Mus])) \u001b[38;5;66;03m# count A Mus\u001b[39;00m\n",
      "\u001b[1;31mModuleNotFoundError\u001b[0m: No module named 'pandas'"
     ]
    }
   ],
   "source": [
    "from Bio import SeqIO\n",
    "import pandas as pd\n",
    "\n",
    "DNA_Mus= [repr(seq_record.seq) for seq_record in SeqI0.parse(\"Mus_musculus_Actc1_sequence\"(\"fasta\"))]\n",
    "\n",
    "Mus_Acnt = (sum([round(((i.count(\"A\"))/len(DNA_Mus)),0)for i in DNA_Mus])) # count A Mus\n",
    "\n",
    "Print(\"{0}%is the A proportion in Mus musculus\" .format(Mus_Acnt))\n",
    "\n",
    "\n",
    "All_A_proportion = [Mus_Acnt]\n",
    "print(All_A_proportion)\n",
    "SpNames = [\"Mus_sp\"]\n",
    "SMR = [1.59] #weight specific metabolic rates\n",
    "\n",
    "MyDict = {\"SpName\":SpNames,\n",
    "         \"SMR\": SMR,\n",
    "         \"A_prop%\":All_A_proportion}\n",
    "\n",
    "df= pd.DataFrame(MyDict)\n",
    "df.set_index(\"SpName\", inplace = true)\n",
    "\n",
    "##print(df)\n",
    "\n",
    "correl = round(df[\"SMR\"].corr(df[\"A_prop%\"]),2)\n",
    "print(\"correlation between SMR and A_prop% is \\n:{0}\".format(correl))"
   ]
  },
  {
   "cell_type": "code",
   "execution_count": null,
   "id": "c0bfa9a1",
   "metadata": {},
   "outputs": [],
   "source": []
  },
  {
   "cell_type": "code",
   "execution_count": null,
   "id": "43595f67",
   "metadata": {},
   "outputs": [],
   "source": []
  },
  {
   "cell_type": "code",
   "execution_count": null,
   "id": "3a1dfbf9",
   "metadata": {},
   "outputs": [],
   "source": []
  }
 ],
 "metadata": {
  "kernelspec": {
   "display_name": "Python 3 (ipykernel)",
   "language": "python",
   "name": "python3"
  },
  "language_info": {
   "codemirror_mode": {
    "name": "ipython",
    "version": 3
   },
   "file_extension": ".py",
   "mimetype": "text/x-python",
   "name": "python",
   "nbconvert_exporter": "python",
   "pygments_lexer": "ipython3",
   "version": "3.11.5"
  }
 },
 "nbformat": 4,
 "nbformat_minor": 5
}
