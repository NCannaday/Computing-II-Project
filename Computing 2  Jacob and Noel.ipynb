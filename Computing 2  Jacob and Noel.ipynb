{
 "cells": [
  {
   "cell_type": "code",
   "execution_count": 21,
   "id": "f32993f2",
   "metadata": {},
   "outputs": [
    {
     "name": "stdout",
     "output_type": "stream",
     "text": [
      "correlation between SMR and A_prop% is \n",
      ":nan\n"
     ]
    }
   ],
   "source": [
    "from Bio import SeqIO\n",
    "import pandas as pd\n",
    "\n",
    "DNA_Mus= [repr(seq_record.seq) for seq_record in SeqIO.parse(\"Mus_musculus_Actc1_sequence.txt\",(\"fasta\"))]\n",
    "\n",
    "Mus_Acnt = (sum([round(((i.count(\"A\"))/len(DNA_Mus)),0)for i in DNA_Mus])) # count A Mus\n",
    "\n",
    "##print(\"{0}%is the A proportion in Mus musculus\" .format(Mus_Acnt))\n",
    "\n",
    "\n",
    "All_A_proportion = [Mus_Acnt]\n",
    "##print(All_A_proportion)\n",
    "SpNames = [\"Mus_sp\"]\n",
    "SMR = [1.59] #weight specific metabolic rates\n",
    "\n",
    "MyDict = {\"SpName\":SpNames,\n",
    "         \"SMR\": SMR,\n",
    "         \"A_prop%\":All_A_proportion}\n",
    "\n",
    "df= pd.DataFrame(MyDict)\n",
    "df.set_index(\"SpName\", inplace = True)\n",
    "\n",
    "##print(df)\n",
    "\n",
    "correl = round(df[\"SMR\"].corr(df[\"A_prop%\"]),2)\n",
    "#print(\"correlation between SMR and A_prop% is \\n:{0}\".format(correl))"
   
 
