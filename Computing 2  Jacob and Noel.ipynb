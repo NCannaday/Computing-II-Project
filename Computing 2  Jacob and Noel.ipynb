{
 "cells": [
  {
   "cell_type": "code",
   "execution_count": 21,
   "id": "f32993f2",
   "metadata": {},
   "outputs": [
    {
     "name": "stdout",
     "output_type": "stream",
     "text": [
      "correlation between SMR and A_prop% is \n",
      ":nan\n"
     ]
    }
   ],
   "source": [
    "from Bio import SeqIO\n",
    "import pandas as pd\n",
    "\n",
    "DNA_Mus= [repr(seq_record.seq) for seq_record in SeqIO.parse(\"Mus_musculus_Actc1_sequence.txt\",(\"fasta\"))]\n",
    "\n",
    "Mus_Acnt = (sum([round(((i.count(\"A\"))/len(DNA_Mus)),0)for i in DNA_Mus])) # count A Mus\n",
    "\n",
    "##print(\"{0}%is the A proportion in Mus musculus\" .format(Mus_Acnt))\n",
    "\n",
    "\n",
    "All_A_proportion = [Mus_Acnt]\n",
    "##print(All_A_proportion)\n",
    "SpNames = [\"Mus_sp\"]\n",
    "SMR = [1.59] #weight specific metabolic rates\n",
    "\n",
    "MyDict = {\"SpName\":SpNames,\n",
    "         \"SMR\": SMR,\n",
    "         \"A_prop%\":All_A_proportion}\n",
    "\n",
    "df= pd.DataFrame(MyDict)\n",
    "df.set_index(\"SpName\", inplace = True)\n",
    "\n",
    "##print(df)\n",
    "\n",
    "correl = round(df[\"SMR\"].corr(df[\"A_prop%\"]),2)\n",
    "#print(\"correlation between SMR and A_prop% is \\n:{0}\".format(correl))"
   ]
  },
  {
   "cell_type": "code",
   "execution_count": null,
   "id": "c0bfa9a1",
   "metadata": {},
   "outputs": [],
   "source": []
  },
  {
   "cell_type": "code",
   "execution_count": null,
   "id": "43595f67",
   "metadata": {},
   "outputs": [],
   "source": []
  },
  {
   "cell_type": "code",
   "execution_count": null,
   "id": "3a1dfbf9",
   "metadata": {},
   "outputs": [],
   "source": []
  },
  {
   "cell_type": "code",
   "execution_count": null,
   "id": "a416137f",
   "metadata": {},
   "outputs": [],
   "source": []
  },
  {
   "cell_type": "code",
   "execution_count": null,
   "id": "d74f752f",
   "metadata": {},
   "outputs": [],
   "source": []
  },
  {
   "cell_type": "code",
   "execution_count": null,
   "id": "efbafe75",
   "metadata": {},
   "outputs": [],
   "source": []
  },
  {
   "cell_type": "code",
   "execution_count": null,
   "id": "b2f06ce8",
   "metadata": {},
   "outputs": [],
   "source": []
  },
  {
   "cell_type": "code",
   "execution_count": null,
   "id": "c5d0151f",
   "metadata": {},
   "outputs": [],
   "source": []
  },
  {
   "cell_type": "code",
   "execution_count": null,
   "id": "706c0961",
   "metadata": {},
   "outputs": [],
   "source": []
  },
  {
   "cell_type": "code",
   "execution_count": null,
   "id": "d16396ee",
   "metadata": {},
   "outputs": [],
   "source": []
  },
  {
   "cell_type": "code",
   "execution_count": null,
   "id": "31bde0bf",
   "metadata": {},
   "outputs": [],
   "source": []
  },
  {
   "cell_type": "code",
   "execution_count": null,
   "id": "01a55497",
   "metadata": {},
   "outputs": [],
   "source": []
  },
  {
   "cell_type": "code",
   "execution_count": null,
   "id": "1d8da25e",
   "metadata": {},
   "outputs": [],
   "source": []
  },
  {
   "cell_type": "code",
   "execution_count": null,
   "id": "d721f008",
   "metadata": {},
   "outputs": [],
   "source": []
  }
 ],
 "metadata": {
  "kernelspec": {
   "display_name": "Python 3 (ipykernel)",
   "language": "python",
   "name": "python3"
  },
  "language_info": {
   "codemirror_mode": {
    "name": "ipython",
    "version": 3
   },
   "file_extension": ".py",
   "mimetype": "text/x-python",
   "name": "python",
   "nbconvert_exporter": "python",
   "pygments_lexer": "ipython3",
   "version": "3.11.5"
  }
 },
 "nbformat": 4,
 "nbformat_minor": 5
}
